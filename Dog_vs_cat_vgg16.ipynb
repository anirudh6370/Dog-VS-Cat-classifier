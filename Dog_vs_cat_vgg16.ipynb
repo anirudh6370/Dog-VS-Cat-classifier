{
  "nbformat": 4,
  "nbformat_minor": 0,
  "metadata": {
    "colab": {
      "provenance": [],
      "gpuType": "T4",
      "mount_file_id": "18QDFh5AdgVEruiiS-FH6dvHfzMz0xpv5",
      "authorship_tag": "ABX9TyOjWwKumYG7h2GYnjVf+yci",
      "include_colab_link": true
    },
    "kernelspec": {
      "name": "python3",
      "display_name": "Python 3"
    },
    "language_info": {
      "name": "python"
    },
    "accelerator": "GPU"
  },
  "cells": [
    {
      "cell_type": "markdown",
      "metadata": {
        "id": "view-in-github",
        "colab_type": "text"
      },
      "source": [
        "<a href=\"https://colab.research.google.com/github/anirudh6370/Dog-VS-Cat-classifier/blob/main/Dog_vs_cat_vgg16.ipynb\" target=\"_parent\"><img src=\"https://colab.research.google.com/assets/colab-badge.svg\" alt=\"Open In Colab\"/></a>"
      ]
    },
    {
      "cell_type": "code",
      "execution_count": 21,
      "metadata": {
        "id": "SfRhj4RNmESx"
      },
      "outputs": [],
      "source": [
        "!mkdir -p ~/.kaggle\n",
        "!cp kaggle.json ~/.kaggle/"
      ]
    },
    {
      "cell_type": "code",
      "source": [
        "!kaggle datasets download -d salader/dogs-vs-cats"
      ],
      "metadata": {
        "colab": {
          "base_uri": "https://localhost:8080/"
        },
        "id": "BLP5MQyLmyfV",
        "outputId": "79c882a1-f2fb-453a-ff1b-ce835fb83ccc"
      },
      "execution_count": 22,
      "outputs": [
        {
          "output_type": "stream",
          "name": "stdout",
          "text": [
            "Warning: Your Kaggle API key is readable by other users on this system! To fix this, you can run 'chmod 600 /root/.kaggle/kaggle.json'\n",
            "dogs-vs-cats.zip: Skipping, found more recently modified local copy (use --force to force download)\n"
          ]
        }
      ]
    },
    {
      "cell_type": "code",
      "source": [
        "import zipfile\n",
        "zip_ref = zipfile.ZipFile(r'/content/dogs-vs-cats.zip')\n",
        "zip_ref.extractall('/content/')\n",
        "zip_ref.close()"
      ],
      "metadata": {
        "id": "fQvX2VzJmz3p"
      },
      "execution_count": 23,
      "outputs": []
    },
    {
      "cell_type": "code",
      "source": [
        "import tensorflow as tf\n",
        "from tensorflow import keras\n",
        "from keras import Sequential\n",
        "from keras.applications.vgg16 import VGG16\n",
        "from keras.layers import Flatten,Dense"
      ],
      "metadata": {
        "id": "qKGTapLenO_i"
      },
      "execution_count": 24,
      "outputs": []
    },
    {
      "cell_type": "code",
      "source": [
        "conv_base = VGG16(\n",
        "  weights = 'imagenet',\n",
        "  include_top = False,\n",
        "  input_shape = (150,150,3))"
      ],
      "metadata": {
        "id": "BufQ6f8PoROy"
      },
      "execution_count": 25,
      "outputs": []
    },
    {
      "cell_type": "code",
      "source": [
        "conv_base.summary()"
      ],
      "metadata": {
        "colab": {
          "base_uri": "https://localhost:8080/"
        },
        "id": "Z9N54VfyoyRv",
        "outputId": "b9037101-a35b-41c7-e370-093634e7f48a"
      },
      "execution_count": 26,
      "outputs": [
        {
          "output_type": "stream",
          "name": "stdout",
          "text": [
            "Model: \"vgg16\"\n",
            "_________________________________________________________________\n",
            " Layer (type)                Output Shape              Param #   \n",
            "=================================================================\n",
            " input_2 (InputLayer)        [(None, 150, 150, 3)]     0         \n",
            "                                                                 \n",
            " block1_conv1 (Conv2D)       (None, 150, 150, 64)      1792      \n",
            "                                                                 \n",
            " block1_conv2 (Conv2D)       (None, 150, 150, 64)      36928     \n",
            "                                                                 \n",
            " block1_pool (MaxPooling2D)  (None, 75, 75, 64)        0         \n",
            "                                                                 \n",
            " block2_conv1 (Conv2D)       (None, 75, 75, 128)       73856     \n",
            "                                                                 \n",
            " block2_conv2 (Conv2D)       (None, 75, 75, 128)       147584    \n",
            "                                                                 \n",
            " block2_pool (MaxPooling2D)  (None, 37, 37, 128)       0         \n",
            "                                                                 \n",
            " block3_conv1 (Conv2D)       (None, 37, 37, 256)       295168    \n",
            "                                                                 \n",
            " block3_conv2 (Conv2D)       (None, 37, 37, 256)       590080    \n",
            "                                                                 \n",
            " block3_conv3 (Conv2D)       (None, 37, 37, 256)       590080    \n",
            "                                                                 \n",
            " block3_pool (MaxPooling2D)  (None, 18, 18, 256)       0         \n",
            "                                                                 \n",
            " block4_conv1 (Conv2D)       (None, 18, 18, 512)       1180160   \n",
            "                                                                 \n",
            " block4_conv2 (Conv2D)       (None, 18, 18, 512)       2359808   \n",
            "                                                                 \n",
            " block4_conv3 (Conv2D)       (None, 18, 18, 512)       2359808   \n",
            "                                                                 \n",
            " block4_pool (MaxPooling2D)  (None, 9, 9, 512)         0         \n",
            "                                                                 \n",
            " block5_conv1 (Conv2D)       (None, 9, 9, 512)         2359808   \n",
            "                                                                 \n",
            " block5_conv2 (Conv2D)       (None, 9, 9, 512)         2359808   \n",
            "                                                                 \n",
            " block5_conv3 (Conv2D)       (None, 9, 9, 512)         2359808   \n",
            "                                                                 \n",
            " block5_pool (MaxPooling2D)  (None, 4, 4, 512)         0         \n",
            "                                                                 \n",
            "=================================================================\n",
            "Total params: 14714688 (56.13 MB)\n",
            "Trainable params: 14714688 (56.13 MB)\n",
            "Non-trainable params: 0 (0.00 Byte)\n",
            "_________________________________________________________________\n"
          ]
        }
      ]
    },
    {
      "cell_type": "code",
      "source": [
        "model = Sequential()\n",
        "model.add(conv_base)\n",
        "model.add(Flatten())\n",
        "model.add(Dense(128,activation = 'relu'))\n",
        "model.add(Dense(1,activation = 'sigmoid'))"
      ],
      "metadata": {
        "id": "w-he7FJlpBg1"
      },
      "execution_count": 27,
      "outputs": []
    },
    {
      "cell_type": "code",
      "source": [
        "model.summary()"
      ],
      "metadata": {
        "colab": {
          "base_uri": "https://localhost:8080/"
        },
        "id": "r-x_FUiIphQk",
        "outputId": "c38b79b2-b0fc-4a94-e002-8a2807a07f2b"
      },
      "execution_count": 28,
      "outputs": [
        {
          "output_type": "stream",
          "name": "stdout",
          "text": [
            "Model: \"sequential_1\"\n",
            "_________________________________________________________________\n",
            " Layer (type)                Output Shape              Param #   \n",
            "=================================================================\n",
            " vgg16 (Functional)          (None, 4, 4, 512)         14714688  \n",
            "                                                                 \n",
            " flatten_1 (Flatten)         (None, 8192)              0         \n",
            "                                                                 \n",
            " dense_2 (Dense)             (None, 128)               1048704   \n",
            "                                                                 \n",
            " dense_3 (Dense)             (None, 1)                 129       \n",
            "                                                                 \n",
            "=================================================================\n",
            "Total params: 15763521 (60.13 MB)\n",
            "Trainable params: 15763521 (60.13 MB)\n",
            "Non-trainable params: 0 (0.00 Byte)\n",
            "_________________________________________________________________\n"
          ]
        }
      ]
    },
    {
      "cell_type": "code",
      "source": [
        "conv_base.trainable = False"
      ],
      "metadata": {
        "id": "xTmXkNw5ppk4"
      },
      "execution_count": 29,
      "outputs": []
    },
    {
      "cell_type": "code",
      "source": [
        "model.summary()"
      ],
      "metadata": {
        "colab": {
          "base_uri": "https://localhost:8080/"
        },
        "id": "2CVfjZAUp7yM",
        "outputId": "3b62e0e1-9b3c-4168-a516-4360ce6f257f"
      },
      "execution_count": 30,
      "outputs": [
        {
          "output_type": "stream",
          "name": "stdout",
          "text": [
            "Model: \"sequential_1\"\n",
            "_________________________________________________________________\n",
            " Layer (type)                Output Shape              Param #   \n",
            "=================================================================\n",
            " vgg16 (Functional)          (None, 4, 4, 512)         14714688  \n",
            "                                                                 \n",
            " flatten_1 (Flatten)         (None, 8192)              0         \n",
            "                                                                 \n",
            " dense_2 (Dense)             (None, 128)               1048704   \n",
            "                                                                 \n",
            " dense_3 (Dense)             (None, 1)                 129       \n",
            "                                                                 \n",
            "=================================================================\n",
            "Total params: 15763521 (60.13 MB)\n",
            "Trainable params: 1048833 (4.00 MB)\n",
            "Non-trainable params: 14714688 (56.13 MB)\n",
            "_________________________________________________________________\n"
          ]
        }
      ]
    },
    {
      "cell_type": "code",
      "source": [
        "train_ds = keras.utils.image_dataset_from_directory(\n",
        "        directory = '/content/train',\n",
        "        labels = 'inferred',\n",
        "        label_mode = 'int',\n",
        "        batch_size = 32,\n",
        "        image_size = (150,150)\n",
        ")"
      ],
      "metadata": {
        "colab": {
          "base_uri": "https://localhost:8080/"
        },
        "id": "mbIDOArSp_lw",
        "outputId": "ccdf01cd-7024-458d-bd48-9ec501f12d9b"
      },
      "execution_count": 31,
      "outputs": [
        {
          "output_type": "stream",
          "name": "stdout",
          "text": [
            "Found 20000 files belonging to 2 classes.\n"
          ]
        }
      ]
    },
    {
      "cell_type": "code",
      "source": [
        "valid_ds = keras.utils.image_dataset_from_directory(\n",
        "        directory = '/content/test',\n",
        "        labels = 'inferred',\n",
        "        label_mode = 'int',\n",
        "        batch_size = 32,\n",
        "        image_size = (150,150)\n",
        ")"
      ],
      "metadata": {
        "colab": {
          "base_uri": "https://localhost:8080/"
        },
        "id": "FwkTQibTq6-F",
        "outputId": "fc92bbcb-ced6-4d25-f66a-2542dad6a0fc"
      },
      "execution_count": 32,
      "outputs": [
        {
          "output_type": "stream",
          "name": "stdout",
          "text": [
            "Found 5000 files belonging to 2 classes.\n"
          ]
        }
      ]
    },
    {
      "cell_type": "code",
      "source": [
        "\n",
        "\n",
        "#normalization\n",
        "def Preprocess(image,label):\n",
        "  image = tf.cast(image/255.,tf.float32)\n",
        "  return image,label\n"
      ],
      "metadata": {
        "id": "PwDBtg3YrDX3"
      },
      "execution_count": 33,
      "outputs": []
    },
    {
      "cell_type": "code",
      "source": [
        "train_ds = train_ds.map(Preprocess)\n",
        "valid_ds = valid_ds.map(Preprocess)"
      ],
      "metadata": {
        "id": "yrdGT3rfrn5S"
      },
      "execution_count": 34,
      "outputs": []
    },
    {
      "cell_type": "code",
      "source": [
        "model.summary()"
      ],
      "metadata": {
        "colab": {
          "base_uri": "https://localhost:8080/"
        },
        "id": "_xfXAtF1r0IQ",
        "outputId": "ad618df9-1f76-4052-add1-be6c3b9a24e6"
      },
      "execution_count": 35,
      "outputs": [
        {
          "output_type": "stream",
          "name": "stdout",
          "text": [
            "Model: \"sequential_1\"\n",
            "_________________________________________________________________\n",
            " Layer (type)                Output Shape              Param #   \n",
            "=================================================================\n",
            " vgg16 (Functional)          (None, 4, 4, 512)         14714688  \n",
            "                                                                 \n",
            " flatten_1 (Flatten)         (None, 8192)              0         \n",
            "                                                                 \n",
            " dense_2 (Dense)             (None, 128)               1048704   \n",
            "                                                                 \n",
            " dense_3 (Dense)             (None, 1)                 129       \n",
            "                                                                 \n",
            "=================================================================\n",
            "Total params: 15763521 (60.13 MB)\n",
            "Trainable params: 1048833 (4.00 MB)\n",
            "Non-trainable params: 14714688 (56.13 MB)\n",
            "_________________________________________________________________\n"
          ]
        }
      ]
    },
    {
      "cell_type": "code",
      "source": [
        "model.compile(loss = 'binary_crossentropy',optimizer = 'adamax',metrics = ['accuracy'])"
      ],
      "metadata": {
        "id": "sDqficKTr92e"
      },
      "execution_count": 36,
      "outputs": []
    },
    {
      "cell_type": "code",
      "source": [
        "model.fit(train_ds,epochs = 10,validation_data = valid_ds)"
      ],
      "metadata": {
        "colab": {
          "base_uri": "https://localhost:8080/"
        },
        "id": "im_IMtbPsOkH",
        "outputId": "39af2a46-f76f-4b6d-8cbc-c12b8e5a4acb"
      },
      "execution_count": 37,
      "outputs": [
        {
          "output_type": "stream",
          "name": "stdout",
          "text": [
            "Epoch 1/10\n",
            "625/625 [==============================] - 67s 105ms/step - loss: 0.2565 - accuracy: 0.8905 - val_loss: 0.2150 - val_accuracy: 0.9068\n",
            "Epoch 2/10\n",
            "625/625 [==============================] - 65s 103ms/step - loss: 0.1951 - accuracy: 0.9177 - val_loss: 0.2025 - val_accuracy: 0.9128\n",
            "Epoch 3/10\n",
            "625/625 [==============================] - 55s 87ms/step - loss: 0.1709 - accuracy: 0.9293 - val_loss: 0.2029 - val_accuracy: 0.9154\n",
            "Epoch 4/10\n",
            "625/625 [==============================] - 65s 103ms/step - loss: 0.1485 - accuracy: 0.9395 - val_loss: 0.2073 - val_accuracy: 0.9148\n",
            "Epoch 5/10\n",
            "625/625 [==============================] - 64s 103ms/step - loss: 0.1304 - accuracy: 0.9485 - val_loss: 0.2064 - val_accuracy: 0.9150\n",
            "Epoch 6/10\n",
            "625/625 [==============================] - 55s 88ms/step - loss: 0.1139 - accuracy: 0.9567 - val_loss: 0.2135 - val_accuracy: 0.9160\n",
            "Epoch 7/10\n",
            "625/625 [==============================] - 54s 86ms/step - loss: 0.0983 - accuracy: 0.9618 - val_loss: 0.2391 - val_accuracy: 0.9052\n",
            "Epoch 8/10\n",
            "625/625 [==============================] - 65s 104ms/step - loss: 0.0816 - accuracy: 0.9703 - val_loss: 0.2271 - val_accuracy: 0.9134\n",
            "Epoch 9/10\n",
            "625/625 [==============================] - 64s 103ms/step - loss: 0.0683 - accuracy: 0.9762 - val_loss: 0.2400 - val_accuracy: 0.9128\n",
            "Epoch 10/10\n",
            "625/625 [==============================] - 55s 87ms/step - loss: 0.0561 - accuracy: 0.9824 - val_loss: 0.2418 - val_accuracy: 0.9128\n"
          ]
        },
        {
          "output_type": "execute_result",
          "data": {
            "text/plain": [
              "<keras.src.callbacks.History at 0x79409c1db730>"
            ]
          },
          "metadata": {},
          "execution_count": 37
        }
      ]
    },
    {
      "cell_type": "code",
      "source": [
        "# prompt: predict for test set\n",
        "\n",
        "test_ds = keras.utils.image_dataset_from_directory(\n",
        "        directory = '/content/test',\n",
        "        labels = 'inferred',\n",
        "        label_mode = 'int',\n",
        "        batch_size = 32,\n",
        "        image_size = (150,150)\n",
        ")\n",
        "test_ds = test_ds.map(Preprocess)\n",
        "test_pred = model.predict(test_ds)\n",
        "print(test_pred)\n"
      ],
      "metadata": {
        "colab": {
          "base_uri": "https://localhost:8080/"
        },
        "id": "hpz-0U7isYh2",
        "outputId": "cd85b626-d8bd-4970-fea3-9d9db2159986"
      },
      "execution_count": 38,
      "outputs": [
        {
          "output_type": "stream",
          "name": "stdout",
          "text": [
            "Found 5000 files belonging to 2 classes.\n",
            "157/157 [==============================] - 11s 68ms/step\n",
            "[[4.7345902e-06]\n",
            " [9.9569242e-03]\n",
            " [9.9974459e-01]\n",
            " ...\n",
            " [2.9100734e-01]\n",
            " [9.9542052e-01]\n",
            " [4.6745941e-01]]\n"
          ]
        }
      ]
    },
    {
      "cell_type": "code",
      "source": [
        "# prompt: now according to the result show the accuracy\n",
        "\n",
        "model.evaluate(test_ds)\n"
      ],
      "metadata": {
        "id": "y4LFSOAHzVUb",
        "colab": {
          "base_uri": "https://localhost:8080/"
        },
        "outputId": "a593f0bb-b64c-4e8b-9fe9-e2ce0d2963f8"
      },
      "execution_count": 39,
      "outputs": [
        {
          "output_type": "stream",
          "name": "stdout",
          "text": [
            "157/157 [==============================] - 11s 68ms/step - loss: 0.2418 - accuracy: 0.9128\n"
          ]
        },
        {
          "output_type": "execute_result",
          "data": {
            "text/plain": [
              "[0.24177956581115723, 0.9128000140190125]"
            ]
          },
          "metadata": {},
          "execution_count": 39
        }
      ]
    },
    {
      "cell_type": "code",
      "source": [],
      "metadata": {
        "id": "S2jv3FXMtq3D"
      },
      "execution_count": 39,
      "outputs": []
    }
  ]
}